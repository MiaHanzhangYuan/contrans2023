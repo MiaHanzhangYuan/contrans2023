{
 "cells": [
  {
   "cell_type": "code",
   "execution_count": 4,
   "id": "9fcfc965-2e9e-4310-9d24-d553eb38abc1",
   "metadata": {},
   "outputs": [],
   "source": [
    "import os\n",
    "mypassword = os.getenv('mypassword')\n",
    "mypassword2=os.environ['mypassword']\n"
   ]
  },
  {
   "cell_type": "code",
   "execution_count": 6,
   "id": "64bb6657-f71d-48c1-a6a2-49bc7f5c610c",
   "metadata": {},
   "outputs": [],
   "source": [
    "passw0rd=mypassword"
   ]
  },
  {
   "cell_type": "code",
   "execution_count": 7,
   "id": "5c08e189-4410-4e72-9784-b27d698717c5",
   "metadata": {},
   "outputs": [
    {
     "data": {
      "text/plain": [
       "'bieber4eva'"
      ]
     },
     "execution_count": 7,
     "metadata": {},
     "output_type": "execute_result"
    }
   ],
   "source": [
    "mypassword"
   ]
  },
  {
   "cell_type": "code",
   "execution_count": null,
   "id": "ab7f34e7-918a-48e3-9d54-90780155a8f0",
   "metadata": {},
   "outputs": [],
   "source": []
  }
 ],
 "metadata": {
  "kernelspec": {
   "display_name": "contrans2023",
   "language": "python",
   "name": "contrans2023"
  },
  "language_info": {
   "codemirror_mode": {
    "name": "ipython",
    "version": 3
   },
   "file_extension": ".py",
   "mimetype": "text/x-python",
   "name": "python",
   "nbconvert_exporter": "python",
   "pygments_lexer": "ipython3",
   "version": "3.11.4"
  }
 },
 "nbformat": 4,
 "nbformat_minor": 5
}
