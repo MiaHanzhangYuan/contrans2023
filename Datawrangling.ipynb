{
 "cells": [
  {
   "cell_type": "code",
   "execution_count": 3,
   "id": "bdd244f7-123c-4329-add4-2fe6e66c17c6",
   "metadata": {},
   "outputs": [],
   "source": [
    "import numpy as np\n",
    "import pandas as pd"
   ]
  },
  {
   "cell_type": "markdown",
   "id": "34eaee12-fb00-4c4b-9d09-365f30eccb1a",
   "metadata": {},
   "source": [
    "## Bring in the voteview data and filter to the 118th congress."
   ]
  },
  {
   "cell_type": "code",
   "execution_count": 4,
   "id": "3ecf1328-c48e-4851-b05d-cd310c613c72",
   "metadata": {},
   "outputs": [],
   "source": [
    "ideology = pd.read_csv(\"https://voteview.com/static/data/out/members/HS118_members.csv\")"
   ]
  },
  {
   "cell_type": "code",
   "execution_count": 5,
   "id": "83405c77-6f17-40d8-83f7-80e7fb839431",
   "metadata": {},
   "outputs": [
    {
     "data": {
      "text/plain": [
       "chamber\n",
       "House     441\n",
       "Senate    100\n",
       "Name: count, dtype: int64"
      ]
     },
     "execution_count": 5,
     "metadata": {},
     "output_type": "execute_result"
    }
   ],
   "source": [
    "ideology['chamber'].value_counts()"
   ]
  },
  {
   "cell_type": "code",
   "execution_count": 8,
   "id": "7b16572f-a2a4-4e6f-af2d-07a224856151",
   "metadata": {},
   "outputs": [
    {
     "data": {
      "text/html": [
       "<div>\n",
       "<style scoped>\n",
       "    .dataframe tbody tr th:only-of-type {\n",
       "        vertical-align: middle;\n",
       "    }\n",
       "\n",
       "    .dataframe tbody tr th {\n",
       "        vertical-align: top;\n",
       "    }\n",
       "\n",
       "    .dataframe thead th {\n",
       "        text-align: right;\n",
       "    }\n",
       "</style>\n",
       "<table border=\"1\" class=\"dataframe\">\n",
       "  <thead>\n",
       "    <tr style=\"text-align: right;\">\n",
       "      <th></th>\n",
       "      <th>bioname</th>\n",
       "      <th>chamber</th>\n",
       "      <th>party_code</th>\n",
       "      <th>state_abbrev</th>\n",
       "      <th>district_code</th>\n",
       "      <th>nominate_dim1</th>\n",
       "    </tr>\n",
       "  </thead>\n",
       "  <tbody>\n",
       "    <tr>\n",
       "      <th>382</th>\n",
       "      <td>GARCIA, Sylvia</td>\n",
       "      <td>House</td>\n",
       "      <td>100</td>\n",
       "      <td>TX</td>\n",
       "      <td>29</td>\n",
       "      <td>-0.807</td>\n",
       "    </tr>\n",
       "    <tr>\n",
       "      <th>482</th>\n",
       "      <td>WARREN, Elizabeth</td>\n",
       "      <td>Senate</td>\n",
       "      <td>100</td>\n",
       "      <td>MA</td>\n",
       "      <td>0</td>\n",
       "      <td>-0.752</td>\n",
       "    </tr>\n",
       "    <tr>\n",
       "      <th>71</th>\n",
       "      <td>LEE, Barbara</td>\n",
       "      <td>House</td>\n",
       "      <td>100</td>\n",
       "      <td>CA</td>\n",
       "      <td>12</td>\n",
       "      <td>-0.677</td>\n",
       "    </tr>\n",
       "    <tr>\n",
       "      <th>143</th>\n",
       "      <td>CASTEN, Sean</td>\n",
       "      <td>House</td>\n",
       "      <td>100</td>\n",
       "      <td>IL</td>\n",
       "      <td>6</td>\n",
       "      <td>-0.672</td>\n",
       "    </tr>\n",
       "    <tr>\n",
       "      <th>66</th>\n",
       "      <td>WATERS, Maxine</td>\n",
       "      <td>House</td>\n",
       "      <td>100</td>\n",
       "      <td>CA</td>\n",
       "      <td>43</td>\n",
       "      <td>-0.656</td>\n",
       "    </tr>\n",
       "    <tr>\n",
       "      <th>...</th>\n",
       "      <td>...</td>\n",
       "      <td>...</td>\n",
       "      <td>...</td>\n",
       "      <td>...</td>\n",
       "      <td>...</td>\n",
       "      <td>...</td>\n",
       "    </tr>\n",
       "    <tr>\n",
       "      <th>527</th>\n",
       "      <td>LEE, Mike</td>\n",
       "      <td>Senate</td>\n",
       "      <td>200</td>\n",
       "      <td>UT</td>\n",
       "      <td>0</td>\n",
       "      <td>0.891</td>\n",
       "    </tr>\n",
       "    <tr>\n",
       "      <th>474</th>\n",
       "      <td>PAUL, Rand</td>\n",
       "      <td>Senate</td>\n",
       "      <td>200</td>\n",
       "      <td>KY</td>\n",
       "      <td>0</td>\n",
       "      <td>0.891</td>\n",
       "    </tr>\n",
       "    <tr>\n",
       "      <th>320</th>\n",
       "      <td>BRECHEEN, Josh</td>\n",
       "      <td>House</td>\n",
       "      <td>200</td>\n",
       "      <td>OK</td>\n",
       "      <td>2</td>\n",
       "      <td>0.926</td>\n",
       "    </tr>\n",
       "    <tr>\n",
       "      <th>441</th>\n",
       "      <td>TUBERVILLE, Thomas Hawley (Tommy)</td>\n",
       "      <td>Senate</td>\n",
       "      <td>200</td>\n",
       "      <td>AL</td>\n",
       "      <td>0</td>\n",
       "      <td>0.936</td>\n",
       "    </tr>\n",
       "    <tr>\n",
       "      <th>490</th>\n",
       "      <td>SCHMITT, Eric Stephen</td>\n",
       "      <td>Senate</td>\n",
       "      <td>200</td>\n",
       "      <td>MO</td>\n",
       "      <td>0</td>\n",
       "      <td>0.945</td>\n",
       "    </tr>\n",
       "  </tbody>\n",
       "</table>\n",
       "<p>541 rows × 6 columns</p>\n",
       "</div>"
      ],
      "text/plain": [
       "                               bioname chamber  party_code state_abbrev  \\\n",
       "382                     GARCIA, Sylvia   House         100           TX   \n",
       "482                  WARREN, Elizabeth  Senate         100           MA   \n",
       "71                        LEE, Barbara   House         100           CA   \n",
       "143                       CASTEN, Sean   House         100           IL   \n",
       "66                      WATERS, Maxine   House         100           CA   \n",
       "..                                 ...     ...         ...          ...   \n",
       "527                          LEE, Mike  Senate         200           UT   \n",
       "474                         PAUL, Rand  Senate         200           KY   \n",
       "320                     BRECHEEN, Josh   House         200           OK   \n",
       "441  TUBERVILLE, Thomas Hawley (Tommy)  Senate         200           AL   \n",
       "490              SCHMITT, Eric Stephen  Senate         200           MO   \n",
       "\n",
       "     district_code  nominate_dim1  \n",
       "382             29         -0.807  \n",
       "482              0         -0.752  \n",
       "71              12         -0.677  \n",
       "143              6         -0.672  \n",
       "66              43         -0.656  \n",
       "..             ...            ...  \n",
       "527              0          0.891  \n",
       "474              0          0.891  \n",
       "320              2          0.926  \n",
       "441              0          0.936  \n",
       "490              0          0.945  \n",
       "\n",
       "[541 rows x 6 columns]"
      ]
     },
     "execution_count": 8,
     "metadata": {},
     "output_type": "execute_result"
    }
   ],
   "source": [
    "ideology[['bioname','chamber','party_code','state_abbrev','district_code','nominate_dim1']]\\\n",
    "    .sort_values('nominate_dim1', ascending= True)\n"
   ]
  },
  {
   "cell_type": "code",
   "execution_count": 10,
   "id": "5c2540b6-2486-4447-a8d1-51ef4011a25f",
   "metadata": {},
   "outputs": [
    {
     "data": {
      "text/plain": [
       "party_code\n",
       "Republican     274\n",
       "Democrat       264\n",
       "Independent      3\n",
       "Name: count, dtype: int64"
      ]
     },
     "execution_count": 10,
     "metadata": {},
     "output_type": "execute_result"
    }
   ],
   "source": [
    "replace_map = {100: 'Democrat',\n",
    "              200: 'Republican',\n",
    "              328: 'Independent'}\n",
    "ideology['party_code']=ideology['party_code'].replace(replace_map)\n",
    "ideology['party_code'].value_counts()"
   ]
  },
  {
   "cell_type": "code",
   "execution_count": 11,
   "id": "3072b0fa-0149-40f2-aec2-7f560a6d15b7",
   "metadata": {},
   "outputs": [
    {
     "data": {
      "text/html": [
       "<div>\n",
       "<style scoped>\n",
       "    .dataframe tbody tr th:only-of-type {\n",
       "        vertical-align: middle;\n",
       "    }\n",
       "\n",
       "    .dataframe tbody tr th {\n",
       "        vertical-align: top;\n",
       "    }\n",
       "\n",
       "    .dataframe thead th {\n",
       "        text-align: right;\n",
       "    }\n",
       "</style>\n",
       "<table border=\"1\" class=\"dataframe\">\n",
       "  <thead>\n",
       "    <tr style=\"text-align: right;\">\n",
       "      <th></th>\n",
       "      <th>bioname</th>\n",
       "      <th>chamber</th>\n",
       "      <th>state_abbrev</th>\n",
       "      <th>nominate_dim1</th>\n",
       "    </tr>\n",
       "  </thead>\n",
       "  <tbody>\n",
       "    <tr>\n",
       "      <th>446</th>\n",
       "      <td>SINEMA, Kyrsten</td>\n",
       "      <td>Senate</td>\n",
       "      <td>AZ</td>\n",
       "      <td>-0.303</td>\n",
       "    </tr>\n",
       "    <tr>\n",
       "      <th>477</th>\n",
       "      <td>KING, Angus Stanley, Jr.</td>\n",
       "      <td>Senate</td>\n",
       "      <td>ME</td>\n",
       "      <td>-0.162</td>\n",
       "    </tr>\n",
       "    <tr>\n",
       "      <th>530</th>\n",
       "      <td>SANDERS, Bernard</td>\n",
       "      <td>Senate</td>\n",
       "      <td>VT</td>\n",
       "      <td>-0.539</td>\n",
       "    </tr>\n",
       "  </tbody>\n",
       "</table>\n",
       "</div>"
      ],
      "text/plain": [
       "                      bioname chamber state_abbrev  nominate_dim1\n",
       "446           SINEMA, Kyrsten  Senate           AZ         -0.303\n",
       "477  KING, Angus Stanley, Jr.  Senate           ME         -0.162\n",
       "530          SANDERS, Bernard  Senate           VT         -0.539"
      ]
     },
     "execution_count": 11,
     "metadata": {},
     "output_type": "execute_result"
    }
   ],
   "source": [
    "ideology.query(\"party_code == 'Independent'\")[['bioname','chamber','state_abbrev','nominate_dim1']]"
   ]
  },
  {
   "cell_type": "code",
   "execution_count": 13,
   "id": "d6d7995e-345c-41ed-bc93-59205fb484ba",
   "metadata": {},
   "outputs": [
    {
     "data": {
      "text/html": [
       "<div>\n",
       "<style scoped>\n",
       "    .dataframe tbody tr th:only-of-type {\n",
       "        vertical-align: middle;\n",
       "    }\n",
       "\n",
       "    .dataframe tbody tr th {\n",
       "        vertical-align: top;\n",
       "    }\n",
       "\n",
       "    .dataframe thead th {\n",
       "        text-align: right;\n",
       "    }\n",
       "</style>\n",
       "<table border=\"1\" class=\"dataframe\">\n",
       "  <thead>\n",
       "    <tr style=\"text-align: right;\">\n",
       "      <th></th>\n",
       "      <th>district_code</th>\n",
       "      <th>party_code</th>\n",
       "      <th>bioname</th>\n",
       "    </tr>\n",
       "  </thead>\n",
       "  <tbody>\n",
       "    <tr>\n",
       "      <th>409</th>\n",
       "      <td>1</td>\n",
       "      <td>Republican</td>\n",
       "      <td>WITTMAN, Robert J.</td>\n",
       "    </tr>\n",
       "    <tr>\n",
       "      <th>410</th>\n",
       "      <td>11</td>\n",
       "      <td>Democrat</td>\n",
       "      <td>CONNOLLY, Gerald E. (Gerry)</td>\n",
       "    </tr>\n",
       "    <tr>\n",
       "      <th>411</th>\n",
       "      <td>9</td>\n",
       "      <td>Republican</td>\n",
       "      <td>GRIFFITH, H. Morgan</td>\n",
       "    </tr>\n",
       "    <tr>\n",
       "      <th>412</th>\n",
       "      <td>8</td>\n",
       "      <td>Democrat</td>\n",
       "      <td>BEYER, Donald Sternoff Jr.</td>\n",
       "    </tr>\n",
       "    <tr>\n",
       "      <th>413</th>\n",
       "      <td>6</td>\n",
       "      <td>Republican</td>\n",
       "      <td>CLINE, Benjamin</td>\n",
       "    </tr>\n",
       "    <tr>\n",
       "      <th>414</th>\n",
       "      <td>7</td>\n",
       "      <td>Democrat</td>\n",
       "      <td>SPANBERGER, Abigail</td>\n",
       "    </tr>\n",
       "    <tr>\n",
       "      <th>415</th>\n",
       "      <td>10</td>\n",
       "      <td>Democrat</td>\n",
       "      <td>WEXTON, Jennifer</td>\n",
       "    </tr>\n",
       "    <tr>\n",
       "      <th>416</th>\n",
       "      <td>5</td>\n",
       "      <td>Republican</td>\n",
       "      <td>GOOD, Bob</td>\n",
       "    </tr>\n",
       "    <tr>\n",
       "      <th>417</th>\n",
       "      <td>2</td>\n",
       "      <td>Republican</td>\n",
       "      <td>KIGGANS, Jennifer</td>\n",
       "    </tr>\n",
       "    <tr>\n",
       "      <th>418</th>\n",
       "      <td>4</td>\n",
       "      <td>Democrat</td>\n",
       "      <td>MCCLELLAN, Jennifer</td>\n",
       "    </tr>\n",
       "    <tr>\n",
       "      <th>419</th>\n",
       "      <td>3</td>\n",
       "      <td>Democrat</td>\n",
       "      <td>SCOTT, Robert C.</td>\n",
       "    </tr>\n",
       "  </tbody>\n",
       "</table>\n",
       "</div>"
      ],
      "text/plain": [
       "     district_code  party_code                      bioname\n",
       "409              1  Republican           WITTMAN, Robert J.\n",
       "410             11    Democrat  CONNOLLY, Gerald E. (Gerry)\n",
       "411              9  Republican          GRIFFITH, H. Morgan\n",
       "412              8    Democrat   BEYER, Donald Sternoff Jr.\n",
       "413              6  Republican              CLINE, Benjamin\n",
       "414              7    Democrat          SPANBERGER, Abigail\n",
       "415             10    Democrat             WEXTON, Jennifer\n",
       "416              5  Republican                    GOOD, Bob\n",
       "417              2  Republican            KIGGANS, Jennifer\n",
       "418              4    Democrat          MCCLELLAN, Jennifer\n",
       "419              3    Democrat             SCOTT, Robert C."
      ]
     },
     "execution_count": 13,
     "metadata": {},
     "output_type": "execute_result"
    }
   ],
   "source": [
    "ideology.query(\"state_abbrev == 'VA' & chamber == 'House' \")[['district_code','party_code','bioname']]"
   ]
  },
  {
   "cell_type": "code",
   "execution_count": 17,
   "id": "834b5b7c-6950-4935-beff-6c6f94ddec09",
   "metadata": {},
   "outputs": [],
   "source": [
    "votes=pd.read_csv(\"https://voteview.com/static/data/out/votes/HS118_votes.csv\")"
   ]
  },
  {
   "cell_type": "code",
   "execution_count": 18,
   "id": "4757183f-65d8-4419-a2f8-cda76280678c",
   "metadata": {},
   "outputs": [],
   "source": [
    "#First do the merge in a way that checks for problems\n",
    "ideology_votes = pd.merge(votes, ideology,\n",
    "                         on = 'icpsr',\n",
    "                         how = 'outer',\n",
    "                         validate = 'many_to_one',\n",
    "                         indicator = 'matched')"
   ]
  },
  {
   "cell_type": "code",
   "execution_count": 19,
   "id": "45e357ec-9db2-4e08-923b-ec8dace4b7ea",
   "metadata": {},
   "outputs": [
    {
     "data": {
      "text/plain": [
       "matched\n",
       "both          248237\n",
       "left_only          0\n",
       "right_only         0\n",
       "Name: count, dtype: int64"
      ]
     },
     "execution_count": 19,
     "metadata": {},
     "output_type": "execute_result"
    }
   ],
   "source": [
    "ideology_votes['matched'].value_counts()"
   ]
  },
  {
   "cell_type": "code",
   "execution_count": null,
   "id": "bd4067e0-cd1c-4462-9f8a-b5ff5d7ca9c9",
   "metadata": {},
   "outputs": [],
   "source": [
    "#Second, if the checks all pass, do the merge in a way that is more \n",
    "ideology_votes = pd.merge(votes, ideology,\n",
    "                         on = 'icpsr',\n",
    "                         how = 'outer',\n",
    "                         validate = 'many_to_one',\n",
    "                         indicator = 'matched')"
   ]
  }
 ],
 "metadata": {
  "kernelspec": {
   "display_name": "Python 3 (ipykernel)",
   "language": "python",
   "name": "python3"
  },
  "language_info": {
   "codemirror_mode": {
    "name": "ipython",
    "version": 3
   },
   "file_extension": ".py",
   "mimetype": "text/x-python",
   "name": "python",
   "nbconvert_exporter": "python",
   "pygments_lexer": "ipython3",
   "version": "3.11.4"
  }
 },
 "nbformat": 4,
 "nbformat_minor": 5
}
